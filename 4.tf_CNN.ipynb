{
 "cells": [
  {
   "cell_type": "code",
   "execution_count": null,
   "metadata": {
    "collapsed": true
   },
   "outputs": [],
   "source": [
    "#卷积层的前向传播过程\n",
    "\n",
    "#通过tf.get_variable的方法创建卷积核的权重变量和偏置项变量。卷积层的参数数量只和卷积核尺寸、深度以及当前层结点矩阵的深度有关。\n",
    "#这里声明的参数变量是一个四维矩阵，前两个维度代表卷积核的尺寸，第三个维度代表当前层的深度，第四个代表卷积核的深度（卷积核数量）。\n",
    "filter_weight=tf.get_variable('weights', [5, 5, 3, 16], initializer=tf.truncated_normal_initializer(stddev=0.1))\n",
    "\n",
    "#和卷积层的权重类似，当前层矩阵上不同位置的偏置项也是共享的，共有下一层深度个不同的偏置项。\n",
    "#本案例16为卷积核的深度，即下一层结点矩阵的深度。\n",
    "biases=tf.get_variable('biases', [16], initializer=tf._constant_initializer(0.1))\n",
    "\n",
    "#tf.nn.conv2d提供了非常方便的函数来实现卷积层的前向传播算法。这个函数的第一个输入为当前层的结点张量。\n",
    "#该张量是一个四维张量，后面三个维度对应一个结点张量，第一个维度对应输入批量。\n",
    "#例如input[0,:,:,:]表示第一张图片。tf.nn.conv2d第二个参数提供了卷积层的权重，第三个参数为不同维度上的步幅。\n",
    "#虽然第三个参数提供的是一个长度为4的数组，但第一维度和第四维度都必须为1，即一次一张图片一个色彩通道，卷积步幅只对长宽有效。\n",
    "#最后一个参数是填充方法，TF中提供SAME和VALID，SAME表示添加0填充，VALID表示不添加。\n",
    "conv=tf.nn.conv2d(input, filter_weights, strides=[1,1,1,1], padding='SAME')\n",
    "\n",
    "#tf.nn.bias_add提供了方便的函数为每个结点加上偏置项。注意这里不能直接使用加法，因为矩阵上不同位置上的结点都需要加上相同的偏置项。\n",
    "#若下一层大小为2×2，但偏置项只有一个数（深度为1），而2×2矩阵中每一个值都需要加上该偏置项。\n",
    "bias=tf.nn.bias_add(conv, biases)\n",
    "\n",
    "#将计算结果通过ReLU函数完成去线性化\n",
    "actived_conv=tf.nn.relu(bias)\n"
   ]
  },
  {
   "cell_type": "code",
   "execution_count": null,
   "metadata": {
    "collapsed": true
   },
   "outputs": [],
   "source": [
    "#最大池化层的前向传播算法\n",
    "\n",
    "#tf.nn.max_pool实现了最大池化层的前向传播过程，它的参数和tf.nn.conv2d函数类似。\n",
    "#ksize提供了卷积核的尺寸，strides提供了步幅信息，padding提供是否使用0填充。\n",
    "pool=tf.nn.max_pool(actived_conv, ksize=[1,3,3,1],strides=[1,2,2,1], padding='SAME')"
   ]
  },
  {
   "cell_type": "markdown",
   "metadata": {},
   "source": [
    "### 卷积层与池化层理解\n",
    "#### 1. 假设我们输入矩阵\n",
    "\n",
    "$\n",
    "M=\\left(\\begin{array}{c}\n",
    "1&-1&0\\\\\n",
    "-1&2&1\\\\\n",
    "0&2&-2\n",
    "\\end{array}\\right)\n",
    "$"
   ]
  },
  {
   "cell_type": "code",
   "execution_count": 2,
   "metadata": {
    "collapsed": false
   },
   "outputs": [
    {
     "name": "stdout",
     "output_type": "stream",
     "text": [
      "Matrix shape is:  (3, 3, 1)\n"
     ]
    }
   ],
   "source": [
    "import tensorflow as tf\n",
    "import numpy as np\n",
    "\n",
    "M = np.array([\n",
    "        [[1],[-1],[0]],\n",
    "        [[-1],[2],[1]],\n",
    "        [[0],[2],[-2]]\n",
    "    ])\n",
    "\n",
    "print (\"Matrix shape is: \",M.shape)"
   ]
  },
  {
   "cell_type": "markdown",
   "metadata": {},
   "source": [
    "#### 2. 定义卷积核, 深度为1。\n",
    "$\n",
    "W=\\left(\\begin{array}{c}\n",
    "1&-1\\\\\n",
    "0&2\n",
    "\\end{array}\\right)\n",
    "$"
   ]
  },
  {
   "cell_type": "code",
   "execution_count": 3,
   "metadata": {
    "collapsed": true
   },
   "outputs": [],
   "source": [
    "filter_weight = tf.get_variable('weights', [2, 2, 1, 1], initializer = tf.constant_initializer([\n",
    "                                                                        [1, -1],\n",
    "                                                                        [0, 2]]))\n",
    "biases = tf.get_variable('biases', [1], initializer = tf.constant_initializer(1))"
   ]
  },
  {
   "cell_type": "code",
   "execution_count": 4,
   "metadata": {
    "collapsed": true
   },
   "outputs": [],
   "source": [
    "#调整输入格式符合TensorFlow要求\n",
    "M = np.asarray(M, dtype='float32')\n",
    "M = M.reshape(1, 3, 3, 1)"
   ]
  },
  {
   "cell_type": "code",
   "execution_count": 6,
   "metadata": {
    "collapsed": false
   },
   "outputs": [
    {
     "name": "stdout",
     "output_type": "stream",
     "text": [
      "convoluted_M: \n",
      " [[[[ 7.]\n",
      "   [ 1.]]\n",
      "\n",
      "  [[-1.]\n",
      "   [-1.]]]]\n",
      "pooled_M: \n",
      " [[[[ 0.25]\n",
      "   [ 0.5 ]]\n",
      "\n",
      "  [[ 1.  ]\n",
      "   [-2.  ]]]]\n"
     ]
    }
   ],
   "source": [
    "#计算矩阵通过卷积核和池化滤波器计算后的结果\n",
    "x = tf.placeholder('float32', [1, None, None, 1])\n",
    "conv = tf.nn.conv2d(x, filter_weight, strides = [1, 2, 2, 1], padding = 'SAME')\n",
    "bias = tf.nn.bias_add(conv, biases)\n",
    "pool = tf.nn.avg_pool(x, ksize=[1, 2, 2, 1], strides=[1, 2, 2, 1], padding='SAME')\n",
    "with tf.Session() as sess:\n",
    "    tf.global_variables_initializer().run()\n",
    "    convoluted_M = sess.run(bias,feed_dict={x:M})\n",
    "    pooled_M = sess.run(pool,feed_dict={x:M})\n",
    "    \n",
    "    print (\"convoluted_M: \\n\", convoluted_M)\n",
    "    print (\"pooled_M: \\n\", pooled_M)"
   ]
  },
  {
   "cell_type": "markdown",
   "metadata": {},
   "source": [
    "### LeNet-5 TensorFlow 实现"
   ]
  },
  {
   "cell_type": "code",
   "execution_count": null,
   "metadata": {
    "collapsed": true
   },
   "outputs": [],
   "source": [
    "#训练LeNet-5和前面全连接网络非常相似,\n",
    "#调整输入数据占位符的搁置，输入为一个四维张量\n",
    "\n",
    "#第一个维度表示一个batch中样本的数量，第二个维度和第三个维度表示图片尺寸，第四个维度是图片深度\n",
    "x=tf.placeholder(tf.float32,[BATCH_SIZE,\n",
    "                             mnist_inference.IMAGE_SIZE,\n",
    "                             mnist_inference.IMAGE_SIZE,\n",
    "                             mnist_inference.NUM_CHANNELES], name='x-input')\n"
   ]
  },
  {
   "cell_type": "code",
   "execution_count": 1,
   "metadata": {
    "collapsed": true
   },
   "outputs": [],
   "source": [
    "import tensorflow as tf\n",
    "\n",
    "# 配置卷积神经网络的架构参数\n",
    "INPUT_NODE = 784\n",
    "OUTPUT_NODE = 10\n",
    "\n",
    "IMAGE_SIZE = 28\n",
    "NUM_CHANNELS = 1\n",
    "NUM_LABELS = 10\n",
    "\n",
    "# 第一层卷积层的尺寸和深度\n",
    "CONV1_DEEP = 32\n",
    "CONV1_SIZE = 5\n",
    "# 第二层卷积层的尺寸和深度\n",
    "CONV2_DEEP = 64\n",
    "CONV2_SIZE = 5\n",
    "# 全连接层的结点个数\n",
    "FC_SIZE = 512\n",
    "\n",
    "\n",
    "# 定义卷积神经网络的前向传播过程。这里添加了一个新的参数train，用于区分训练过程和测试过程。在这个程序中将用到dropout方法，\n",
    "# dropout方法可进一步提升模型的可靠性并防止过拟合，dropout过程只在训练时使用\n",
    "def inference(input_tensor, train, regularizer):\n",
    "    # 声明第一层卷积层的变量并实现前向传播过程。通过使用不同命名空间来隔离不同层的变量，让每一层中的变量命名只需要考虑在当前层的作用，\n",
    "    # 不需担心重命名的问题。第一层输出为28×28×32的张量\n",
    "    with tf.variable_scope('layer1-conv1'):\n",
    "        conv1_weights = tf.get_variable('weight', [CONV1_SIZE, CONV1_SIZE, NUM_CHANNELS, CONV1_DEEP],\n",
    "                                        initializer=tf.truncated_normal_initializer(stddev=0.1))\n",
    "        conv1_biases = tf.get_variable('bias', [CONV1_DEEP], initializer=tf.constant_initializer(0.0))\n",
    "\n",
    "        # 使用边长为5，深度为32的卷积核，卷积核的移动步幅为1，且使用0填充\n",
    "        conv1 = tf.nn.conv2d(input_tensor, conv1_weights, strides=[1, 1, 1, 1], padding='SAME')\n",
    "        relu1 = tf.nn.relu(tf.nn.bias_add(conv1, conv1_biases))\n",
    "\n",
    "    # 实现第二层池化层的前向传播过程。该最大池化层卷积核边长为2，使用0填充，移动步幅为2.\n",
    "    # 该层的输入为28×28×32的张量，输出为14×14×32的张量\n",
    "    with tf.name_scope('layer2-pool1'):\n",
    "        pool1 = tf.nn.max_pool(relu1, ksize=[1, 2, 2, 1],strides=[1,1,1,1], padding='SAME')\n",
    "\n",
    "    # 声明第三层卷积层的变量并实现前向传播过程，该卷积层的输入为14×14×32的张量，输出为14×14×64的矩阵\n",
    "    with tf.variable_scope('layer3-conv2'):\n",
    "        conv2_weights = tf.get_variable('weight', [CONV2_SIZE, CONV2_SIZE, CONV1_DEEP, CONV2_DEEP],\n",
    "                                        initializer=tf.truncated_normal_initializer(stddev=0.1))\n",
    "        conv2_biases = tf.get_variable('bias', [CONV2_DEEP], initializer=tf.constant_initializer(0.0))\n",
    "\n",
    "        # 使用尺寸为5×5，深度为64的卷积核，卷积核的移动步幅为1，且使用0填充\n",
    "        conv2 = tf.nn.conv2d(pool1, conv2_weights, strides=[1, 1, 1, 1], padding='SAME')\n",
    "        relu2 = tf.nn.relu(tf.nn.bias_add(conv2, conv2_biases))\n",
    "\n",
    "    # 实现第四层池化层的前向传播过程，输入为14×14×64，输出为7×7×64的张量\n",
    "    with tf.name_scope('layer4-pool2'):\n",
    "        pool2 = tf.nn.max_pool(relu2, ksize=[1, 2, 2, 1], strides=[1, 2, 2, 1], padding='SAME')\n",
    "\n",
    "    # 将第四层池化层的输出转化为第五层全连接层的输入格式。第四层为7×7×64的张量，第五层输入为向量，所以需要将该张量拉成一个向量\n",
    "    # pool2.get_shape函数取第四层输出张量的维度，每层的输入输出都为一个BATCH的张量，所以这里得到的维度也包含一个BATCH中数据的数量。\n",
    "    pool_shape = pool2.get_shape().as_list()\n",
    "\n",
    "    # 计算将张量拉直成向量后的长度，该长度等于张量维度累乘。注意这里的pool_shape[0]为一个batch中数据的个数\n",
    "    nodes = pool_shape[1] * pool_shape[2] * pool_shape[3]\n",
    "\n",
    "    # 通过tf.reshape函数将第四层的输出变成一个batch的向量\n",
    "    reshaped = tf.reshape(pool2, [pool_shape[0], nodes])\n",
    "\n",
    "    # 声明第五层全连接层的变量并实现前向传播过程。输入长度为3136的向量，输出长度为512的向量。该层引入了dropout的概念，\n",
    "    # dropout在训练时随机将部分结点的输出改为0.dropout一般只在全连接层而不是卷积层或池化层使用。\n",
    "    with tf.variable_scope('layer5-fcl'):\n",
    "        fc1_weights = tf.get_variable('weight', [nodes, FC_SIZE],\n",
    "                                      initializer=tf.truncated_normal_initializer(stddev=0.1))\n",
    "\n",
    "        # 只有全连接层权重需要加入正则化\n",
    "        if regularizer != None:\n",
    "            tf.add_to_collection('losses', regularizer(fc1_weights))\n",
    "        fc1_biases = tf.get_variable('bias', [FC_SIZE], initializer=tf.constant_initializer(0.1))\n",
    "\n",
    "        fc1 = tf.nn.relu(tf.matmul(reshaped, fc1_weights) + fc1_biases)\n",
    "        if train: fc1 = tf.nn.dropout(fc1, 0.5)\n",
    "\n",
    "    # 声明第六层全连接层变量并实现前向传播，输入长度为512的向量，输出长度为10的向量。输出通过softmax之后可得到最后的分类结果。\n",
    "    with tf.variable_scope('layer6-fc2'):\n",
    "        fc2_weights = tf.get_variable('weight', [FC_SIZE, NUM_LABELS],\n",
    "                                      initializer=tf.truncated_normal_initializer(stddev=0.1))\n",
    "        if regularizer != None:\n",
    "            tf.add_to_collection('losses', regularizer(fc1_weights))\n",
    "\n",
    "        fc2_biases = tf.get_variable('bias', [NUM_LABELS], initializer=tf.constant_initializer(0.1))\n",
    "        logit = tf.matmul(fc1, fc2_weights) + fc2_biases\n",
    "    return logit\n",
    "\n"
   ]
  },
  {
   "cell_type": "code",
   "execution_count": null,
   "metadata": {
    "collapsed": false
   },
   "outputs": [
    {
     "name": "stdout",
     "output_type": "stream",
     "text": [
      "Extracting ./data/MNIST/train-images-idx3-ubyte.gz\n",
      "Extracting ./data/MNIST/train-labels-idx1-ubyte.gz\n",
      "Extracting ./data/MNIST/t10k-images-idx3-ubyte.gz\n",
      "Extracting ./data/MNIST/t10k-labels-idx1-ubyte.gz\n",
      "After 1 training steps, loss on training batch is 14.1371.\n"
     ]
    }
   ],
   "source": [
    "# -*- coding: utf-8 -*-\n",
    "import os\n",
    "from tensorflow.examples.tutorials.mnist import input_data\n",
    "import numpy as np\n",
    "\n",
    "# 配置神经网络的参数\n",
    "BATCH_SIZE = 16\n",
    "LEARNING_RATE_BASE = 0.8\n",
    "LEARNING_RATE_DECAY = 0.99\n",
    "REGULARIZATION_RATE = 0.0001\n",
    "TRAINING_STEPS = 10000\n",
    "MOVING_AVERAGE_DECAY = 0.99\n",
    "MODEL_SAVE_PATH = \"./model/fcn_mnist\"\n",
    "MODEL_NAME = \"fcn_mnist.ckpt\"\n",
    "\n",
    "\n",
    "def train(mnist):\n",
    "    x = tf.placeholder(tf.float32, [BATCH_SIZE, IMAGE_SIZE, IMAGE_SIZE, NUM_CHANNELS], name='x-input')\n",
    "    y = tf.placeholder(tf.float32, [None, OUTPUT_NODE], name='y-output')\n",
    "\n",
    "    regularizer = tf.contrib.layers.l2_regularizer(REGULARIZATION_RATE)\n",
    "    # 调用推断过程\n",
    "    y_hat = inference(x, True, regularizer)\n",
    "    global_step = tf.Variable(0, trainable=False)\n",
    "\n",
    "    # 定义损失函数、学习率、滑动平均操作及训练过程\n",
    "    variable_averages = tf.train.ExponentialMovingAverage(MOVING_AVERAGE_DECAY, global_step)\n",
    "    variables_average_op = variable_averages.apply(tf.trainable_variables())\n",
    "    cross_entropy = tf.nn.sparse_softmax_cross_entropy_with_logits(logits=y_hat, labels=tf.argmax(y, 1))\n",
    "    cross_entropy_mean = tf.reduce_mean(cross_entropy)\n",
    "    loss = cross_entropy_mean + tf.add_n(tf.get_collection('losses'))\n",
    "    learning_rate = tf.train.exponential_decay(LEARNING_RATE_BASE, global_step, mnist.train.num_examples / BATCH_SIZE,\n",
    "                                              LEARNING_RATE_DECAY)\n",
    "    train_step = tf.train.GradientDescentOptimizer(learning_rate).minimize(loss, global_step=global_step)\n",
    "\n",
    "    with tf.control_dependencies([train_step, variables_average_op]):\n",
    "        train_op = tf.no_op(name='train')\n",
    "\n",
    "    # 初始化TF持久化类\n",
    "    saver = tf.train.Saver()\n",
    "    with tf.Session() as sess:\n",
    "        sess.run(tf.global_variables_initializer())\n",
    "\n",
    "        # 在训练过程中不再测试模型在验证数据上的表现，验证和测试的过程会有独立的过程完成\n",
    "        for i in range(TRAINING_STEPS):\n",
    "            xs, ys = mnist.train.next_batch(BATCH_SIZE)\n",
    "            reshaped_xs=np.reshape(xs,(BATCH_SIZE, IMAGE_SIZE, IMAGE_SIZE, NUM_CHANNELS))\n",
    "            _, loss_value, step = sess.run([train_op, loss, global_step], feed_dict={x: reshaped_xs, y: ys})\n",
    "\n",
    "            # 每1000次迭代保存一次模型\n",
    "            if i % 1000 == 0:\n",
    "                # 输出模型在当前训练批量下的损失函数大小\n",
    "                print('After %d training steps, loss on training batch is %g.' % (step, loss_value))\n",
    "\n",
    "                # 保存当前模型，并使用global_step 参数特定地命名\n",
    "                saver.save(sess, os.path.join(MODEL_SAVE_PATH, MODEL_NAME), global_step=global_step)\n",
    "\n",
    "\n",
    "def main(argv=None):\n",
    "    mnist = input_data.read_data_sets('./data/MNIST/', one_hot=True)\n",
    "    train(mnist)\n",
    "\n",
    "\n",
    "if __name__ == '__main__':\n",
    "    tf.app.run()\n"
   ]
  },
  {
   "cell_type": "markdown",
   "metadata": {},
   "source": [
    "以上是LeNet-5的实现，该网络一共两个卷积层和池化层，通过它们抽取的特征图在转换为一个向量后传入全连接层完成预测"
   ]
  },
  {
   "cell_type": "code",
   "execution_count": 2,
   "metadata": {
    "collapsed": false,
    "scrolled": true
   },
   "outputs": [
    {
     "data": {
      "image/png": "[encoded data removed]",
      "text/plain": [
       "<matplotlib.figure.Figure at 0x229e9e62898>"
      ]
     },
     "metadata": {},
     "output_type": "display_data"
    }
   ],
   "source": [
    "import matplotlib.pyplot as plt\n",
    "import tensorflow as tf\n",
    "\n",
    "\n",
    "image_raw_data =  tf.gfile.FastGFile(\"../../data/raw_image/image.png\", \"rb\").read()\n",
    "\n",
    "with tf.Session() as sess:\n",
    "    img_data = tf.image.decode_png(image_raw_data)\n",
    "    plt.imshow(img_data.eval())\n",
    "    plt.show()"
   ]
  },
  {
   "cell_type": "markdown",
   "metadata": {
    "collapsed": true
   },
   "source": [
    "如下描述的是一个Inception模块，即最后一个全连接层前的Inception模块"
   ]
  },
  {
   "cell_type": "markdown",
   "metadata": {
    "collapsed": true
   },
   "source": [
    "### Inception-v3 module"
   ]
  },
  {
   "cell_type": "code",
   "execution_count": null,
   "metadata": {
    "collapsed": true
   },
   "outputs": [],
   "source": [
    "#Inception-v3模型共96个卷积层，用原始API会很冗长。TensorFlow-Slim可以简洁地实现卷积层\n",
    "#通过TensorFlow-Slim可以在一行中实现一个卷积层的前向传播算法。slim.conv2d函数有三个参数是必填的：输入结点的矩阵、卷积核的深度和尺寸\n",
    "#可选参数还有卷积核的步幅、padding、激活函数等\n",
    "net=slim.conv2d(input, 32, [3, 3])"
   ]
  },
  {
   "cell_type": "code",
   "execution_count": null,
   "metadata": {
    "collapsed": true
   },
   "outputs": [],
   "source": [
    "#以下实现Inception相对复杂的模块，即最后一层并联Inception module\n",
    "#slim.arg_scope函数可设置默认的参数取值。默认下stride=1, padding='SAME'。进一步减少冗余代码\n",
    "#以下列表中的函数，将会使用后面定义的默认值\n",
    "with slim.arg_scope([slim.conv2d, slim.max_pool2d, slim.avg_pool2d], stride=1, padding='SAME')\n",
    "\n",
    "#此处省略了Inception-v3模型中其它的网络结构而直接实现最后的并联Inception模块。\n",
    "#若net为上一层的输出结点矩阵,以下首先为Inception模块声明一个统一的变量命名空间\n",
    "with tf.variable_scope('Mixed_7c'):\n",
    "    \n",
    "    #为Inception模块中每一条路径声明一个命名空间\n",
    "    with tf.variable_scope('Branch_0'):\n",
    "        #实现一个卷积核尺寸为1，深度为320的卷积层\n",
    "        branch_0=slim.conv2d(net, 320, [1, 1], scope='Conv2d_0a_1×1')\n",
    "    \n",
    "    #Inception模块中第二条路径，这条计算路径上的结构本身就是一个Inception模块\n",
    "    with tf.variable_scope('Branch_1'):\n",
    "        branch_1=slim.con2d(net, 384, [1, 1], scope='Conv2d_0a_1×1')\n",
    "        \n",
    "        #tf.concat函数可以将多个矩阵拼接起来，tf.concat第一个参数指定了拼接的维度，‘3’表示矩阵在深度这个维度上进行拼接\n",
    "        branch_1=tf.concat(3, [slim.conv2d(branch_1, 384, [1, 3], scope='Conv2d_0b_1×3'),\n",
    "                              slim.conv2d(branch_1, 384, [3, 1], scope='Conv2d_0c_3×1')])\n",
    "        \n",
    "    #Inception模块中第三条路径，该计算路径也是一个Inception结构\n",
    "    with tf.variable_scope('Branch_2'):\n",
    "        branch_2=slim.conv2d(net, 448, [1, 1], scope='Conv2d_0a_1×1')\n",
    "        branch_2=slim.conv2d(branch_2, 384, [3, 3], scope='Conv2d_0b_3×3')\n",
    "        branch_2=tf.concat(3, [slim.comv2d(branch_2, 384, [1, 3], scope='Conv2d_0c_1×3'), \n",
    "                              slim.conv2d(branch_2, 384, [3, 1], scope='Conv2d_0d_3×1')])\n",
    "        \n",
    "    #Inception 模块中第四条路径\n",
    "    with tf.variable_scope('Branch_3'):\n",
    "        branch_3=slim.avg_pool2d(net, [3, 3], scope='AcgPool_0a_3×3')\n",
    "        branch_3=slim.conv2d(branch_3, 192, [1, 1], scope='Conv2d_0b_1×1')\n",
    "        \n",
    "    #当前Inception模块的最后输出是由上面四个计算结果拼接得到的\n",
    "    net=tf.concat(3, [branch_0, branch_1, branch_2, branch_3])\n",
    "    \n"
   ]
  }
 ],
 "metadata": {
  "kernelspec": {
   "display_name": "Python 3",
   "language": "python",
   "name": "python3"
  },
  "language_info": {
   "codemirror_mode": {
    "name": "ipython",
    "version": 3
   },
   "file_extension": ".py",
   "mimetype": "text/x-python",
   "name": "python",
   "nbconvert_exporter": "python",
   "pygments_lexer": "ipython3",
   "version": "3.5.3"
  }
 },
 "nbformat": 4,
 "nbformat_minor": 2
}
